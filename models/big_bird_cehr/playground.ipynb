{
 "cells": [
  {
   "cell_type": "code",
   "execution_count": 1,
   "id": "initial_id",
   "metadata": {
    "ExecuteTime": {
     "end_time": "2024-02-13T23:51:58.280936Z",
     "start_time": "2024-02-13T23:51:50.484260200Z"
    },
    "collapsed": true
   },
   "outputs": [
    {
     "name": "stderr",
     "output_type": "stream",
     "text": [
      "2024-02-13 18:51:53.378105: I external/local_tsl/tsl/cuda/cudart_stub.cc:31] Could not find cuda drivers on your machine, GPU will not be used.\n",
      "2024-02-13 18:51:53.430957: E external/local_xla/xla/stream_executor/cuda/cuda_dnn.cc:9261] Unable to register cuDNN factory: Attempting to register factory for plugin cuDNN when one has already been registered\n",
      "2024-02-13 18:51:53.430999: E external/local_xla/xla/stream_executor/cuda/cuda_fft.cc:607] Unable to register cuFFT factory: Attempting to register factory for plugin cuFFT when one has already been registered\n",
      "2024-02-13 18:51:53.433177: E external/local_xla/xla/stream_executor/cuda/cuda_blas.cc:1515] Unable to register cuBLAS factory: Attempting to register factory for plugin cuBLAS when one has already been registered\n",
      "2024-02-13 18:51:53.443750: I external/local_tsl/tsl/cuda/cudart_stub.cc:31] Could not find cuda drivers on your machine, GPU will not be used.\n",
      "2024-02-13 18:51:53.444748: I tensorflow/core/platform/cpu_feature_guard.cc:182] This TensorFlow binary is optimized to use available CPU instructions in performance-critical operations.\n",
      "To enable the following instructions: AVX2 AVX512F FMA, in other operations, rebuild TensorFlow with the appropriate compiler flags.\n",
      "2024-02-13 18:51:54.664798: W tensorflow/compiler/tf2tensorrt/utils/py_utils.cc:38] TF-TRT Warning: Could not find TensorRT\n"
     ]
    }
   ],
   "source": [
    "ROOT = '/fs01/home/afallah/odyssey/odyssey';\n",
    "\n",
    "import os; os.chdir(ROOT)\n",
    "import pandas as pd\n",
    "\n",
    "from models.big_bird_cehr.data import PretrainDataset\n",
    "from models.big_bird_cehr.model import BigBirdPretrain\n",
    "from models.big_bird_cehr.tokenizer import ConceptTokenizer\n",
    "\n",
    "\n",
    "DATA_ROOT = f'{ROOT}/data/slurm_data/2048/one_month'\n",
    "DATA_PATH = f'{DATA_ROOT}/fine_test.parquet'"
   ]
  },
  {
   "cell_type": "code",
   "execution_count": 2,
   "id": "73756c75059737d3",
   "metadata": {
    "ExecuteTime": {
     "end_time": "2024-02-13T23:51:58.924958100Z",
     "start_time": "2024-02-13T23:51:58.289936800Z"
    },
    "collapsed": false
   },
   "outputs": [
    {
     "data": {
      "text/html": [
       "<div>\n",
       "<style scoped>\n",
       "    .dataframe tbody tr th:only-of-type {\n",
       "        vertical-align: middle;\n",
       "    }\n",
       "\n",
       "    .dataframe tbody tr th {\n",
       "        vertical-align: top;\n",
       "    }\n",
       "\n",
       "    .dataframe thead th {\n",
       "        text-align: right;\n",
       "    }\n",
       "</style>\n",
       "<table border=\"1\" class=\"dataframe\">\n",
       "  <thead>\n",
       "    <tr style=\"text-align: right;\">\n",
       "      <th></th>\n",
       "      <th>patient_id</th>\n",
       "      <th>num_visits</th>\n",
       "      <th>deceased</th>\n",
       "      <th>death_after_start</th>\n",
       "      <th>death_after_end</th>\n",
       "      <th>length</th>\n",
       "      <th>token_length</th>\n",
       "      <th>event_tokens_2048</th>\n",
       "      <th>type_tokens_2048</th>\n",
       "      <th>age_tokens_2048</th>\n",
       "      <th>time_tokens_2048</th>\n",
       "      <th>visit_tokens_2048</th>\n",
       "      <th>position_tokens_2048</th>\n",
       "      <th>label</th>\n",
       "    </tr>\n",
       "  </thead>\n",
       "  <tbody>\n",
       "    <tr>\n",
       "      <th>21185</th>\n",
       "      <td>a8f4e876-b5a0-5f59-b6dc-e842d95bcfe5</td>\n",
       "      <td>7</td>\n",
       "      <td>1</td>\n",
       "      <td>24.0</td>\n",
       "      <td>17.0</td>\n",
       "      <td>613</td>\n",
       "      <td>631</td>\n",
       "      <td>[[CLS], [VS], 00054853516, 00245008201, 003380...</td>\n",
       "      <td>[1, 2, 6, 6, 6, 6, 6, 6, 6, 6, 6, 6, 6, 6, 6, ...</td>\n",
       "      <td>[0, 70, 70, 70, 70, 70, 70, 70, 70, 70, 70, 70...</td>\n",
       "      <td>[0, 5050, 5050, 5050, 5050, 5050, 5050, 5050, ...</td>\n",
       "      <td>[0, 2, 2, 2, 2, 2, 2, 2, 2, 2, 2, 2, 2, 2, 2, ...</td>\n",
       "      <td>[0, 2, 2, 2, 2, 2, 2, 2, 2, 2, 2, 2, 2, 2, 2, ...</td>\n",
       "      <td>1</td>\n",
       "    </tr>\n",
       "    <tr>\n",
       "      <th>16720</th>\n",
       "      <td>d6425657-47fa-57da-adda-db1af92ad0f8</td>\n",
       "      <td>3</td>\n",
       "      <td>0</td>\n",
       "      <td>NaN</td>\n",
       "      <td>NaN</td>\n",
       "      <td>202</td>\n",
       "      <td>208</td>\n",
       "      <td>[[CLS], [VS], 54569105100, 49281041688, 633230...</td>\n",
       "      <td>[1, 2, 6, 6, 6, 6, 6, 6, 5, 5, 5, 5, 5, 5, 5, ...</td>\n",
       "      <td>[0, 26, 26, 26, 26, 26, 26, 26, 26, 26, 26, 26...</td>\n",
       "      <td>[0, 5483, 5483, 5483, 5483, 5483, 5483, 5483, ...</td>\n",
       "      <td>[0, 2, 2, 2, 2, 2, 2, 2, 2, 2, 2, 2, 2, 2, 2, ...</td>\n",
       "      <td>[0, 2, 2, 2, 2, 2, 2, 2, 2, 2, 2, 2, 2, 2, 2, ...</td>\n",
       "      <td>0</td>\n",
       "    </tr>\n",
       "    <tr>\n",
       "      <th>117588</th>\n",
       "      <td>cffad8a4-3014-5fae-85eb-fb8f9adc9d91</td>\n",
       "      <td>2</td>\n",
       "      <td>1</td>\n",
       "      <td>6.0</td>\n",
       "      <td>0.0</td>\n",
       "      <td>424</td>\n",
       "      <td>427</td>\n",
       "      <td>[[CLS], [VS], 966, 022, 9672, 9604, 3891, 0131...</td>\n",
       "      <td>[1, 2, 7, 7, 7, 7, 7, 7, 7, 7, 6, 6, 6, 6, 6, ...</td>\n",
       "      <td>[0, 81, 81, 81, 81, 81, 81, 81, 81, 81, 81, 81...</td>\n",
       "      <td>[0, 8384, 8384, 8384, 8384, 8384, 8384, 8384, ...</td>\n",
       "      <td>[0, 2, 2, 2, 2, 2, 2, 2, 2, 2, 2, 2, 2, 2, 2, ...</td>\n",
       "      <td>[0, 2, 2, 2, 2, 2, 2, 2, 2, 2, 2, 2, 2, 2, 2, ...</td>\n",
       "      <td>1</td>\n",
       "    </tr>\n",
       "    <tr>\n",
       "      <th>117814</th>\n",
       "      <td>4fffaae4-0d88-5d33-bacc-45fe99bc7d7d</td>\n",
       "      <td>10</td>\n",
       "      <td>1</td>\n",
       "      <td>6.0</td>\n",
       "      <td>0.0</td>\n",
       "      <td>1878</td>\n",
       "      <td>1905</td>\n",
       "      <td>[[CLS], [VS], 0015, 3893, 00472500360, 0040967...</td>\n",
       "      <td>[1, 2, 7, 7, 6, 6, 6, 6, 6, 6, 6, 6, 6, 6, 6, ...</td>\n",
       "      <td>[0, 65, 65, 65, 65, 65, 65, 65, 65, 65, 65, 65...</td>\n",
       "      <td>[0, 6869, 6869, 6869, 6869, 6869, 6869, 6869, ...</td>\n",
       "      <td>[0, 2, 2, 2, 2, 2, 2, 2, 2, 2, 2, 2, 2, 2, 2, ...</td>\n",
       "      <td>[0, 2, 2, 2, 2, 2, 2, 2, 2, 2, 2, 2, 2, 2, 2, ...</td>\n",
       "      <td>1</td>\n",
       "    </tr>\n",
       "    <tr>\n",
       "      <th>73537</th>\n",
       "      <td>97c12d45-83aa-5d1d-9eb3-b4ccd18c1945</td>\n",
       "      <td>3</td>\n",
       "      <td>0</td>\n",
       "      <td>NaN</td>\n",
       "      <td>NaN</td>\n",
       "      <td>40</td>\n",
       "      <td>46</td>\n",
       "      <td>[[CLS], [VS], 00406831562, 00409198530, 195150...</td>\n",
       "      <td>[1, 2, 6, 6, 6, 6, 6, 6, 6, 6, 6, 6, 6, 6, 3, ...</td>\n",
       "      <td>[0, 45, 45, 45, 45, 45, 45, 45, 45, 45, 45, 45...</td>\n",
       "      <td>[0, 7476, 7476, 7476, 7476, 7476, 7476, 7476, ...</td>\n",
       "      <td>[0, 2, 2, 2, 2, 2, 2, 2, 2, 2, 2, 2, 2, 2, 2, ...</td>\n",
       "      <td>[0, 2, 2, 2, 2, 2, 2, 2, 2, 2, 2, 2, 2, 2, 2, ...</td>\n",
       "      <td>0</td>\n",
       "    </tr>\n",
       "    <tr>\n",
       "      <th>...</th>\n",
       "      <td>...</td>\n",
       "      <td>...</td>\n",
       "      <td>...</td>\n",
       "      <td>...</td>\n",
       "      <td>...</td>\n",
       "      <td>...</td>\n",
       "      <td>...</td>\n",
       "      <td>...</td>\n",
       "      <td>...</td>\n",
       "      <td>...</td>\n",
       "      <td>...</td>\n",
       "      <td>...</td>\n",
       "      <td>...</td>\n",
       "      <td>...</td>\n",
       "    </tr>\n",
       "    <tr>\n",
       "      <th>49007</th>\n",
       "      <td>eb604179-70ba-57d3-b946-9594f2bce625</td>\n",
       "      <td>41</td>\n",
       "      <td>1</td>\n",
       "      <td>58.0</td>\n",
       "      <td>0.0</td>\n",
       "      <td>9189</td>\n",
       "      <td>9309</td>\n",
       "      <td>[[CLS], [VS], 51221_0, 51006_0, 50983_4, 50971...</td>\n",
       "      <td>[1, 2, 5, 5, 5, 5, 5, 5, 5, 5, 5, 5, 5, 5, 5, ...</td>\n",
       "      <td>[0, 55, 55, 55, 55, 55, 55, 55, 55, 55, 55, 55...</td>\n",
       "      <td>[0, 9940, 9940, 9940, 9940, 9940, 9940, 9940, ...</td>\n",
       "      <td>[0, 2, 2, 2, 2, 2, 2, 2, 2, 2, 2, 2, 2, 2, 2, ...</td>\n",
       "      <td>[1, 41, 41, 41, 41, 41, 41, 41, 41, 41, 41, 41...</td>\n",
       "      <td>1</td>\n",
       "    </tr>\n",
       "    <tr>\n",
       "      <th>38305</th>\n",
       "      <td>4e2eeebd-d378-5d90-8c11-127e835fd727</td>\n",
       "      <td>2</td>\n",
       "      <td>1</td>\n",
       "      <td>8.0</td>\n",
       "      <td>0.0</td>\n",
       "      <td>629</td>\n",
       "      <td>632</td>\n",
       "      <td>[[CLS], [VS], 5491, 5101, 9672, 9604, 3897, 33...</td>\n",
       "      <td>[1, 2, 7, 7, 7, 7, 7, 7, 7, 6, 6, 6, 6, 6, 6, ...</td>\n",
       "      <td>[0, 68, 68, 68, 68, 68, 68, 68, 68, 68, 68, 68...</td>\n",
       "      <td>[0, 5430, 5430, 5430, 5430, 5430, 5430, 5430, ...</td>\n",
       "      <td>[0, 2, 2, 2, 2, 2, 2, 2, 2, 2, 2, 2, 2, 2, 2, ...</td>\n",
       "      <td>[0, 2, 2, 2, 2, 2, 2, 2, 2, 2, 2, 2, 2, 2, 2, ...</td>\n",
       "      <td>1</td>\n",
       "    </tr>\n",
       "    <tr>\n",
       "      <th>61522</th>\n",
       "      <td>81a61c04-3dfa-5291-b686-b5597b0acf78</td>\n",
       "      <td>2</td>\n",
       "      <td>1</td>\n",
       "      <td>4.0</td>\n",
       "      <td>0.0</td>\n",
       "      <td>244</td>\n",
       "      <td>247</td>\n",
       "      <td>[[CLS], [VS], 5A1935Z, 0BH17EZ, 00904585361, 0...</td>\n",
       "      <td>[1, 2, 7, 7, 6, 6, 6, 6, 6, 6, 6, 6, 6, 6, 6, ...</td>\n",
       "      <td>[0, 84, 84, 84, 84, 84, 84, 84, 84, 84, 84, 84...</td>\n",
       "      <td>[0, 5844, 5844, 5844, 5844, 5844, 5844, 5844, ...</td>\n",
       "      <td>[0, 2, 2, 2, 2, 2, 2, 2, 2, 2, 2, 2, 2, 2, 2, ...</td>\n",
       "      <td>[0, 2, 2, 2, 2, 2, 2, 2, 2, 2, 2, 2, 2, 2, 2, ...</td>\n",
       "      <td>1</td>\n",
       "    </tr>\n",
       "    <tr>\n",
       "      <th>143152</th>\n",
       "      <td>eb023432-e52e-5760-935e-4c39f1aece51</td>\n",
       "      <td>2</td>\n",
       "      <td>1</td>\n",
       "      <td>1.0</td>\n",
       "      <td>0.0</td>\n",
       "      <td>214</td>\n",
       "      <td>217</td>\n",
       "      <td>[[CLS], [VS], 9962, 9671, 9960, 9604, 00338004...</td>\n",
       "      <td>[1, 2, 7, 7, 7, 7, 6, 6, 6, 6, 6, 6, 6, 6, 6, ...</td>\n",
       "      <td>[0, 91, 91, 91, 91, 91, 91, 91, 91, 91, 91, 91...</td>\n",
       "      <td>[0, 7246, 7246, 7246, 7246, 7246, 7246, 7246, ...</td>\n",
       "      <td>[0, 2, 2, 2, 2, 2, 2, 2, 2, 2, 2, 2, 2, 2, 2, ...</td>\n",
       "      <td>[0, 2, 2, 2, 2, 2, 2, 2, 2, 2, 2, 2, 2, 2, 2, ...</td>\n",
       "      <td>1</td>\n",
       "    </tr>\n",
       "    <tr>\n",
       "      <th>78462</th>\n",
       "      <td>1c4c05e8-3efb-5a54-88cd-4603f2dbcb71</td>\n",
       "      <td>2</td>\n",
       "      <td>1</td>\n",
       "      <td>21.0</td>\n",
       "      <td>15.0</td>\n",
       "      <td>425</td>\n",
       "      <td>428</td>\n",
       "      <td>[[CLS], [VS], 3615, 3512, 3613, 3961, 00121043...</td>\n",
       "      <td>[1, 2, 7, 7, 7, 7, 6, 6, 6, 6, 6, 6, 6, 6, 6, ...</td>\n",
       "      <td>[0, 61, 61, 61, 61, 61, 61, 61, 61, 61, 61, 61...</td>\n",
       "      <td>[0, 6491, 6491, 6491, 6491, 6491, 6491, 6491, ...</td>\n",
       "      <td>[0, 2, 2, 2, 2, 2, 2, 2, 2, 2, 2, 2, 2, 2, 2, ...</td>\n",
       "      <td>[0, 2, 2, 2, 2, 2, 2, 2, 2, 2, 2, 2, 2, 2, 2, ...</td>\n",
       "      <td>1</td>\n",
       "    </tr>\n",
       "  </tbody>\n",
       "</table>\n",
       "<p>3000 rows × 14 columns</p>\n",
       "</div>"
      ],
      "text/plain": [
       "                                  patient_id  num_visits  deceased  \\\n",
       "21185   a8f4e876-b5a0-5f59-b6dc-e842d95bcfe5           7         1   \n",
       "16720   d6425657-47fa-57da-adda-db1af92ad0f8           3         0   \n",
       "117588  cffad8a4-3014-5fae-85eb-fb8f9adc9d91           2         1   \n",
       "117814  4fffaae4-0d88-5d33-bacc-45fe99bc7d7d          10         1   \n",
       "73537   97c12d45-83aa-5d1d-9eb3-b4ccd18c1945           3         0   \n",
       "...                                      ...         ...       ...   \n",
       "49007   eb604179-70ba-57d3-b946-9594f2bce625          41         1   \n",
       "38305   4e2eeebd-d378-5d90-8c11-127e835fd727           2         1   \n",
       "61522   81a61c04-3dfa-5291-b686-b5597b0acf78           2         1   \n",
       "143152  eb023432-e52e-5760-935e-4c39f1aece51           2         1   \n",
       "78462   1c4c05e8-3efb-5a54-88cd-4603f2dbcb71           2         1   \n",
       "\n",
       "        death_after_start  death_after_end  length  token_length  \\\n",
       "21185                24.0             17.0     613           631   \n",
       "16720                 NaN              NaN     202           208   \n",
       "117588                6.0              0.0     424           427   \n",
       "117814                6.0              0.0    1878          1905   \n",
       "73537                 NaN              NaN      40            46   \n",
       "...                   ...              ...     ...           ...   \n",
       "49007                58.0              0.0    9189          9309   \n",
       "38305                 8.0              0.0     629           632   \n",
       "61522                 4.0              0.0     244           247   \n",
       "143152                1.0              0.0     214           217   \n",
       "78462                21.0             15.0     425           428   \n",
       "\n",
       "                                        event_tokens_2048  \\\n",
       "21185   [[CLS], [VS], 00054853516, 00245008201, 003380...   \n",
       "16720   [[CLS], [VS], 54569105100, 49281041688, 633230...   \n",
       "117588  [[CLS], [VS], 966, 022, 9672, 9604, 3891, 0131...   \n",
       "117814  [[CLS], [VS], 0015, 3893, 00472500360, 0040967...   \n",
       "73537   [[CLS], [VS], 00406831562, 00409198530, 195150...   \n",
       "...                                                   ...   \n",
       "49007   [[CLS], [VS], 51221_0, 51006_0, 50983_4, 50971...   \n",
       "38305   [[CLS], [VS], 5491, 5101, 9672, 9604, 3897, 33...   \n",
       "61522   [[CLS], [VS], 5A1935Z, 0BH17EZ, 00904585361, 0...   \n",
       "143152  [[CLS], [VS], 9962, 9671, 9960, 9604, 00338004...   \n",
       "78462   [[CLS], [VS], 3615, 3512, 3613, 3961, 00121043...   \n",
       "\n",
       "                                         type_tokens_2048  \\\n",
       "21185   [1, 2, 6, 6, 6, 6, 6, 6, 6, 6, 6, 6, 6, 6, 6, ...   \n",
       "16720   [1, 2, 6, 6, 6, 6, 6, 6, 5, 5, 5, 5, 5, 5, 5, ...   \n",
       "117588  [1, 2, 7, 7, 7, 7, 7, 7, 7, 7, 6, 6, 6, 6, 6, ...   \n",
       "117814  [1, 2, 7, 7, 6, 6, 6, 6, 6, 6, 6, 6, 6, 6, 6, ...   \n",
       "73537   [1, 2, 6, 6, 6, 6, 6, 6, 6, 6, 6, 6, 6, 6, 3, ...   \n",
       "...                                                   ...   \n",
       "49007   [1, 2, 5, 5, 5, 5, 5, 5, 5, 5, 5, 5, 5, 5, 5, ...   \n",
       "38305   [1, 2, 7, 7, 7, 7, 7, 7, 7, 6, 6, 6, 6, 6, 6, ...   \n",
       "61522   [1, 2, 7, 7, 6, 6, 6, 6, 6, 6, 6, 6, 6, 6, 6, ...   \n",
       "143152  [1, 2, 7, 7, 7, 7, 6, 6, 6, 6, 6, 6, 6, 6, 6, ...   \n",
       "78462   [1, 2, 7, 7, 7, 7, 6, 6, 6, 6, 6, 6, 6, 6, 6, ...   \n",
       "\n",
       "                                          age_tokens_2048  \\\n",
       "21185   [0, 70, 70, 70, 70, 70, 70, 70, 70, 70, 70, 70...   \n",
       "16720   [0, 26, 26, 26, 26, 26, 26, 26, 26, 26, 26, 26...   \n",
       "117588  [0, 81, 81, 81, 81, 81, 81, 81, 81, 81, 81, 81...   \n",
       "117814  [0, 65, 65, 65, 65, 65, 65, 65, 65, 65, 65, 65...   \n",
       "73537   [0, 45, 45, 45, 45, 45, 45, 45, 45, 45, 45, 45...   \n",
       "...                                                   ...   \n",
       "49007   [0, 55, 55, 55, 55, 55, 55, 55, 55, 55, 55, 55...   \n",
       "38305   [0, 68, 68, 68, 68, 68, 68, 68, 68, 68, 68, 68...   \n",
       "61522   [0, 84, 84, 84, 84, 84, 84, 84, 84, 84, 84, 84...   \n",
       "143152  [0, 91, 91, 91, 91, 91, 91, 91, 91, 91, 91, 91...   \n",
       "78462   [0, 61, 61, 61, 61, 61, 61, 61, 61, 61, 61, 61...   \n",
       "\n",
       "                                         time_tokens_2048  \\\n",
       "21185   [0, 5050, 5050, 5050, 5050, 5050, 5050, 5050, ...   \n",
       "16720   [0, 5483, 5483, 5483, 5483, 5483, 5483, 5483, ...   \n",
       "117588  [0, 8384, 8384, 8384, 8384, 8384, 8384, 8384, ...   \n",
       "117814  [0, 6869, 6869, 6869, 6869, 6869, 6869, 6869, ...   \n",
       "73537   [0, 7476, 7476, 7476, 7476, 7476, 7476, 7476, ...   \n",
       "...                                                   ...   \n",
       "49007   [0, 9940, 9940, 9940, 9940, 9940, 9940, 9940, ...   \n",
       "38305   [0, 5430, 5430, 5430, 5430, 5430, 5430, 5430, ...   \n",
       "61522   [0, 5844, 5844, 5844, 5844, 5844, 5844, 5844, ...   \n",
       "143152  [0, 7246, 7246, 7246, 7246, 7246, 7246, 7246, ...   \n",
       "78462   [0, 6491, 6491, 6491, 6491, 6491, 6491, 6491, ...   \n",
       "\n",
       "                                        visit_tokens_2048  \\\n",
       "21185   [0, 2, 2, 2, 2, 2, 2, 2, 2, 2, 2, 2, 2, 2, 2, ...   \n",
       "16720   [0, 2, 2, 2, 2, 2, 2, 2, 2, 2, 2, 2, 2, 2, 2, ...   \n",
       "117588  [0, 2, 2, 2, 2, 2, 2, 2, 2, 2, 2, 2, 2, 2, 2, ...   \n",
       "117814  [0, 2, 2, 2, 2, 2, 2, 2, 2, 2, 2, 2, 2, 2, 2, ...   \n",
       "73537   [0, 2, 2, 2, 2, 2, 2, 2, 2, 2, 2, 2, 2, 2, 2, ...   \n",
       "...                                                   ...   \n",
       "49007   [0, 2, 2, 2, 2, 2, 2, 2, 2, 2, 2, 2, 2, 2, 2, ...   \n",
       "38305   [0, 2, 2, 2, 2, 2, 2, 2, 2, 2, 2, 2, 2, 2, 2, ...   \n",
       "61522   [0, 2, 2, 2, 2, 2, 2, 2, 2, 2, 2, 2, 2, 2, 2, ...   \n",
       "143152  [0, 2, 2, 2, 2, 2, 2, 2, 2, 2, 2, 2, 2, 2, 2, ...   \n",
       "78462   [0, 2, 2, 2, 2, 2, 2, 2, 2, 2, 2, 2, 2, 2, 2, ...   \n",
       "\n",
       "                                     position_tokens_2048  label  \n",
       "21185   [0, 2, 2, 2, 2, 2, 2, 2, 2, 2, 2, 2, 2, 2, 2, ...      1  \n",
       "16720   [0, 2, 2, 2, 2, 2, 2, 2, 2, 2, 2, 2, 2, 2, 2, ...      0  \n",
       "117588  [0, 2, 2, 2, 2, 2, 2, 2, 2, 2, 2, 2, 2, 2, 2, ...      1  \n",
       "117814  [0, 2, 2, 2, 2, 2, 2, 2, 2, 2, 2, 2, 2, 2, 2, ...      1  \n",
       "73537   [0, 2, 2, 2, 2, 2, 2, 2, 2, 2, 2, 2, 2, 2, 2, ...      0  \n",
       "...                                                   ...    ...  \n",
       "49007   [1, 41, 41, 41, 41, 41, 41, 41, 41, 41, 41, 41...      1  \n",
       "38305   [0, 2, 2, 2, 2, 2, 2, 2, 2, 2, 2, 2, 2, 2, 2, ...      1  \n",
       "61522   [0, 2, 2, 2, 2, 2, 2, 2, 2, 2, 2, 2, 2, 2, 2, ...      1  \n",
       "143152  [0, 2, 2, 2, 2, 2, 2, 2, 2, 2, 2, 2, 2, 2, 2, ...      1  \n",
       "78462   [0, 2, 2, 2, 2, 2, 2, 2, 2, 2, 2, 2, 2, 2, 2, ...      1  \n",
       "\n",
       "[3000 rows x 14 columns]"
      ]
     },
     "execution_count": 2,
     "metadata": {},
     "output_type": "execute_result"
    }
   ],
   "source": [
    "patients = pd.read_parquet(DATA_PATH)\n",
    "patients"
   ]
  },
  {
   "cell_type": "code",
   "execution_count": 3,
   "id": "6f181cd517e54378",
   "metadata": {
    "ExecuteTime": {
     "end_time": "2024-02-13T23:51:59.044991Z",
     "start_time": "2024-02-13T23:51:58.922957700Z"
    },
    "collapsed": false
   },
   "outputs": [],
   "source": [
    "patients = patients[patients['event_tokens_2048'].notnull()]\n",
    "\n",
    "tokenizer = ConceptTokenizer(data_dir=DATA_ROOT)\n",
    "tokenizer.fit_on_vocab()\n",
    "\n",
    "train_dataset = PretrainDataset(\n",
    "    data=patients,\n",
    "    tokenizer=tokenizer,\n",
    "    max_len=2048,\n",
    "    mask_prob=1,\n",
    ")"
   ]
  },
  {
   "cell_type": "code",
   "execution_count": 4,
   "id": "a024b90f7a8241b4",
   "metadata": {
    "ExecuteTime": {
     "end_time": "2024-02-13T23:51:59.044991Z",
     "start_time": "2024-02-13T23:51:59.018959700Z"
    },
    "collapsed": false
   },
   "outputs": [
    {
     "data": {
      "text/plain": [
       "['[MASK]']"
      ]
     },
     "execution_count": 4,
     "metadata": {},
     "output_type": "execute_result"
    }
   ],
   "source": [
    "tokenizer.decode([[3]])"
   ]
  },
  {
   "cell_type": "code",
   "execution_count": 13,
   "id": "617ef0182b3a60b7",
   "metadata": {
    "ExecuteTime": {
     "end_time": "2024-02-13T23:52:10.726383700Z",
     "start_time": "2024-02-13T23:52:10.709390600Z"
    },
    "collapsed": false
   },
   "outputs": [
    {
     "data": {
      "text/plain": [
       "patient_id                           d6425657-47fa-57da-adda-db1af92ad0f8\n",
       "num_visits                                                              3\n",
       "deceased                                                                0\n",
       "death_after_start                                                     NaN\n",
       "death_after_end                                                       NaN\n",
       "length                                                                202\n",
       "token_length                                                          208\n",
       "event_tokens_2048       [[CLS], [VS], 54569105100, 49281041688, 633230...\n",
       "type_tokens_2048        [1, 2, 6, 6, 6, 6, 6, 6, 5, 5, 5, 5, 5, 5, 5, ...\n",
       "age_tokens_2048         [0, 26, 26, 26, 26, 26, 26, 26, 26, 26, 26, 26...\n",
       "time_tokens_2048        [0, 5483, 5483, 5483, 5483, 5483, 5483, 5483, ...\n",
       "visit_tokens_2048       [0, 2, 2, 2, 2, 2, 2, 2, 2, 2, 2, 2, 2, 2, 2, ...\n",
       "position_tokens_2048    [0, 2, 2, 2, 2, 2, 2, 2, 2, 2, 2, 2, 2, 2, 2, ...\n",
       "label                                                                   0\n",
       "Name: 16720, dtype: object"
      ]
     },
     "execution_count": 13,
     "metadata": {},
     "output_type": "execute_result"
    }
   ],
   "source": [
    "patients.iloc[1]"
   ]
  },
  {
   "cell_type": "code",
   "execution_count": 16,
   "id": "147baf6cd3558cb5",
   "metadata": {
    "ExecuteTime": {
     "end_time": "2024-02-13T23:52:38.005941800Z",
     "start_time": "2024-02-13T23:52:37.809564300Z"
    },
    "collapsed": false
   },
   "outputs": [
    {
     "data": {
      "text/plain": [
       "{'concept_ids': tensor([6, 4, 3,  ..., 2, 2, 2]),\n",
       " 'type_ids': tensor([1, 2, 6,  ..., 0, 0, 0]),\n",
       " 'ages': tensor([ 0, 70, 70,  ...,  0,  0,  0]),\n",
       " 'time_stamps': tensor([   0, 5050, 5050,  ...,    0,    0,    0]),\n",
       " 'visit_orders': tensor([   0,    2,    2,  ..., 2049, 2049, 2049]),\n",
       " 'visit_segments': tensor([0, 2, 2,  ..., 0, 0, 0]),\n",
       " 'labels': tensor([ -100,  -100, 20180,  ...,  -100,  -100,  -100]),\n",
       " 'attention_mask': tensor([1., 1., 1.,  ..., 0., 0., 0.])}"
      ]
     },
     "execution_count": 16,
     "metadata": {},
     "output_type": "execute_result"
    }
   ],
   "source": [
    "train_dataset[0]"
   ]
  },
  {
   "cell_type": "code",
   "execution_count": 6,
   "id": "77a76df1a0358049",
   "metadata": {
    "ExecuteTime": {
     "end_time": "2024-02-13T23:51:59.306551400Z",
     "start_time": "2024-02-13T23:51:59.036959200Z"
    },
    "collapsed": false
   },
   "outputs": [
    {
     "name": "stdout",
     "output_type": "stream",
     "text": [
      "tensor([1., 1., 1.,  ..., 0., 0., 0.])\n"
     ]
    }
   ],
   "source": [
    "print(train_dataset[0]['attention_mask'])"
   ]
  },
  {
   "cell_type": "code",
   "execution_count": 14,
   "id": "65076f3cfce1754a",
   "metadata": {
    "ExecuteTime": {
     "end_time": "2024-02-13T23:52:19.640960400Z",
     "start_time": "2024-02-13T23:52:19.632070200Z"
    },
    "collapsed": false
   },
   "outputs": [
    {
     "data": {
      "text/plain": [
       "3"
      ]
     },
     "execution_count": 14,
     "metadata": {},
     "output_type": "execute_result"
    }
   ],
   "source": [
    "tokenizer.get_mask_token_id()"
   ]
  },
  {
   "cell_type": "code",
   "execution_count": 8,
   "id": "cc34f08b3313b37b",
   "metadata": {
    "ExecuteTime": {
     "end_time": "2024-02-13T23:51:59.450734600Z",
     "start_time": "2024-02-13T23:51:59.314150Z"
    },
    "collapsed": false
   },
   "outputs": [
    {
     "name": "stdout",
     "output_type": "stream",
     "text": [
      "0\n"
     ]
    }
   ],
   "source": [
    "print(list(train_dataset[110]['concept_ids']).count(20569))"
   ]
  },
  {
   "cell_type": "code",
   "execution_count": 9,
   "id": "a73b9cef89b98c7e",
   "metadata": {
    "ExecuteTime": {
     "end_time": "2024-02-13T23:51:59.546131100Z",
     "start_time": "2024-02-13T23:51:59.500947900Z"
    },
    "collapsed": false
   },
   "outputs": [
    {
     "name": "stdout",
     "output_type": "stream",
     "text": [
      "2048\n"
     ]
    }
   ],
   "source": [
    "print(len(train_dataset[110]['concept_ids']))"
   ]
  },
  {
   "cell_type": "code",
   "execution_count": 10,
   "id": "1765143ee1fbb703",
   "metadata": {
    "ExecuteTime": {
     "end_time": "2024-02-13T23:51:59.556124Z",
     "start_time": "2024-02-13T23:51:59.551115100Z"
    },
    "collapsed": false
   },
   "outputs": [
    {
     "data": {
      "text/plain": [
       "2"
      ]
     },
     "execution_count": 10,
     "metadata": {},
     "output_type": "execute_result"
    }
   ],
   "source": [
    "tokenizer.get_pad_token_id()"
   ]
  },
  {
   "cell_type": "code",
   "execution_count": 11,
   "id": "bbb70c831ad4de96",
   "metadata": {
    "ExecuteTime": {
     "end_time": "2024-02-13T23:51:59.565123700Z",
     "start_time": "2024-02-13T23:51:59.562130500Z"
    },
    "collapsed": false
   },
   "outputs": [
    {
     "data": {
      "text/plain": [
       "[[2]]"
      ]
     },
     "execution_count": 11,
     "metadata": {},
     "output_type": "execute_result"
    }
   ],
   "source": [
    "tokenizer.encode([\"[PAD]\"])"
   ]
  },
  {
   "cell_type": "code",
   "execution_count": 12,
   "id": "93db816c5601357",
   "metadata": {
    "ExecuteTime": {
     "end_time": "2024-02-13T23:51:59.577166500Z",
     "start_time": "2024-02-13T23:51:59.563118600Z"
    },
    "collapsed": false
   },
   "outputs": [
    {
     "data": {
      "text/plain": [
       "array(['[CLS]', '[VS]', '00054853516', ..., '[PAD]', '[PAD]', '[PAD]'],\n",
       "      dtype=object)"
      ]
     },
     "execution_count": 12,
     "metadata": {},
     "output_type": "execute_result"
    }
   ],
   "source": [
    "patients.iloc[0]['event_tokens_2048']"
   ]
  },
  {
   "cell_type": "code",
   "execution_count": null,
   "outputs": [],
   "source": [
    "ROOT = '/fs01/home/afallah/odyssey/odyssey'\n",
    "\n",
    "import os;\n",
    "\n",
    "os.chdir(ROOT)\n",
    "import pandas as pd\n",
    "import numpy as np\n",
    "\n",
    "from tqdm import tqdm\n",
    "\n",
    "from models.big_bird_cehr.data import PretrainDataset\n",
    "from models.big_bird_cehr.model import BigBirdPretrain\n",
    "from models.big_bird_cehr.tokenizer import ConceptTokenizer\n",
    "\n",
    "DATA_ROOT = f'{ROOT}/data/slurm_data/2048/one_month'\n",
    "DATA_PATH = f'{DATA_ROOT}/fine_test.parquet'\n",
    "patients = pd.read_parquet(DATA_PATH)\n",
    "patients\n",
    "# Find the unique set of all possible tokens, including special tokens\n",
    "unique_event_tokens = set()\n",
    "\n",
    "for patient_event_tokens in tqdm(\n",
    "        patients[\"event_tokens_2048\"].values, desc=\"Loading Tokens\", unit=\" Patients\"\n",
    "):\n",
    "    for event_token in patient_event_tokens:\n",
    "        unique_event_tokens.add(event_token)\n",
    "\n",
    "unique_event_tokens = list(unique_event_tokens)\n",
    "unique_event_tokens.sort(reverse=True)\n",
    "\n",
    "print(\n",
    "    f\"Complete list of unique event tokens\\nLength: {len(unique_event_tokens)}\\nHead: {unique_event_tokens[:30]}...\"\n",
    ")\n",
    "special_tokens = [\n",
    "    \"[CLS]\",\n",
    "    \"[PAD]\",\n",
    "    # \"[VS]\",\n",
    "    \"[VE]\",\n",
    "    \"[W_0]\",\n",
    "    \"[W_1]\",\n",
    "    \"[W_2]\",\n",
    "    \"[W_3]\",\n",
    "    *[f\"[M_{i}]\" for i in range(0, 13)],\n",
    "    \"[LT]\",\n",
    "]\n",
    "\n",
    "feature_event_tokens = [token for token in unique_event_tokens if token not in special_tokens]\n",
    "\n",
    "print(len(feature_event_tokens), feature_event_tokens[:20])\n",
    "patients_event_tokens = patients['event_tokens_2048']\n",
    "len_vocab = len(feature_event_tokens)\n",
    "token2id = {token: i for i, token in enumerate(feature_event_tokens)}\n",
    "token_correlations = np.zeros(shape=(len_vocab, len_vocab))\n",
    "token_frequencies = []\n",
    "\n",
    "for curr_token in tqdm(feature_event_tokens, desc=\"Analyzing... \", unit=\" Tokens\"):\n",
    "    curr_token_id = token2id[curr_token]\n",
    "    token_freq = 0\n",
    "\n",
    "    for _, patient in enumerate(patients_event_tokens):\n",
    "\n",
    "        vs_id = np.where(patient == '[VS]')[0]\n",
    "        ve_id = np.where(patient == '[VE]')[0]\n",
    "\n",
    "        for vs, ve in zip(vs_id, ve_id):\n",
    "            curr_visit = patient[vs:ve]\n",
    "\n",
    "            if not curr_token in curr_visit:\n",
    "                continue\n",
    "\n",
    "            token_freq += 1\n",
    "            for visit_token in curr_visit:\n",
    "                token_correlations[curr_token_id][token2id[visit_token]] += 1\n",
    "\n",
    "    token_frequencies.append(token_freq)\n",
    "patients = patients[patients['event_tokens_2048'].notnull()]\n",
    "\n",
    "tokenizer = ConceptTokenizer(data_dir=DATA_ROOT)\n",
    "tokenizer.fit_on_vocab()\n",
    "\n",
    "train_dataset = PretrainDataset(\n",
    "    data=patients,\n",
    "    tokenizer=tokenizer,\n",
    "    max_len=2048,\n",
    "    mask_prob=1,\n",
    ")"
   ],
   "metadata": {
    "collapsed": false
   }
  }
 ],
 "metadata": {
  "kernelspec": {
   "display_name": "Python 3",
   "language": "python",
   "name": "python3"
  },
  "language_info": {
   "codemirror_mode": {
    "name": "ipython",
    "version": 2
   },
   "file_extension": ".py",
   "mimetype": "text/x-python",
   "name": "python",
   "nbconvert_exporter": "python",
   "pygments_lexer": "ipython2",
   "version": "2.7.6"
  }
 },
 "nbformat": 4,
 "nbformat_minor": 5
}
