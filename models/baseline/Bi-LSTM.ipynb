{
 "cells": [
  {
   "cell_type": "code",
   "execution_count": null,
   "metadata": {
    "collapsed": true
   },
   "outputs": [],
   "source": [
    "\"\"\"\n",
    "File: Bi-LSTM.ipynb\n",
    "Code to train and evaluate a bi-directional LSTM model on MIMIC-IV FHIR dataset.\n",
    "\"\"\"\n",
    "\n",
    "def Project():\n",
    "    \"\"\"\n",
    "    __Objectives__\n",
    "    0. Import data and tokenizer\n",
    "    1. Train the tokenizer on all sequences of the dataset\n",
    "    2. Tokenize different sequences and join them together\n",
    "    >>> 3. Prepare actual labels for one, six, twelve month death after discharge\n",
    "    >>> 4. Define the model architecture for bidrectional LSTM\n",
    "    >>> 5. Train Bi-LSTM model and evaluate on test dataset\n",
    "    >>> 6. Compare performance across new tasks to XGBoost\n",
    "\n",
    "    __Questions__\n",
    "    0.\n",
    "\n",
    "    __Extra__\n",
    "    Careful with tokenizing all sequences as it could tricky!\n",
    "\n",
    "    \"\"\"\n",
    "    return ProjectObjectives.__doc__"
   ]
  },
  {
   "cell_type": "code",
   "execution_count": null,
   "outputs": [],
   "source": [
    "import os\n",
    "import scipy, math\n",
    "import numpy as np\n",
    "import pandas as pd\n",
    "import matplotlib.pyplot as plt\n",
    "\n",
    "from sklearn.preprocessing import MinMaxScaler, StandardScaler, MaxAbsScaler\n",
    "from sklearn.model_selection import train_test_split, cross_val_predict, StratifiedKFold\n",
    "from sklearn.metrics import accuracy_score, balanced_accuracy_score, precision_score, recall_score\n",
    "from sklearn.metrics import f1_score, roc_curve, auc, precision_recall_curve, roc_auc_score, average_precision_score\n",
    "from scipy.sparse import csr_matrix, hstack, vstack, save_npz, load_npz\n",
    "\n",
    "import torch\n",
    "import torch.nn as nn\n",
    "import torch.optim as optim\n",
    "from torch.nn.functional import relu, leaky_relu, sigmoid\n",
    "from torch.utils.data import Dataset, TensorDataset, DataLoader\n",
    "from torch.optim.lr_scheduler import ExponentialLR\n",
    "\n",
    "from models.cehr_bert.data import PretrainDataset, FinetuneDataset\n",
    "from models.cehr_bert.model import BertPretrain\n",
    "from models.cehr_bert.tokenizer import ConceptTokenizer\n",
    "from models.cehr_bert.embeddings import Embeddings\n",
    "\n",
    "from tqdm import tqdm\n",
    "%matplotlib inline\n",
    "\n",
    "ROOT = 'E:\\Vector Institute\\odyssey'; os.chdir(ROOT)\n",
    "DATA_ROOT = f'{ROOT}/data'\n",
    "DATA_PATH = f'{DATA_ROOT}/patient_sequences.parquet'\n",
    "SAMPLE_DATA_PATH = f'{DATA_ROOT}/CEHR-BERT_sample_patient_sequence.parquet'\n",
    "FREQ_DF_PATH = f'{DATA_ROOT}/patient_feature_freq.csv'\n",
    "FREQ_MATRIX_PATH = f'{DATA_ROOT}/patient_freq_matrix.npz'"
   ],
   "metadata": {
    "collapsed": false
   }
  },
  {
   "cell_type": "code",
   "execution_count": null,
   "outputs": [],
   "source": [
    "# save parameters and configurations\n",
    "class config:\n",
    "    seed = 23\n",
    "    data_dir = DATA_ROOT\n",
    "    test_size = 0.2\n",
    "    max_len = 500\n",
    "    batch_size = 16\n",
    "    num_workers = 2\n",
    "    vocab_size = None\n",
    "    embedding_size = 128\n",
    "    time_embeddings_size = 16\n",
    "    max_seq_length = 512\n",
    "    device = torch.device('cuda')\n",
    "\n",
    "def seed_all(seed):\n",
    "    torch.manual_seed(seed)\n",
    "    np.random.seed(seed)\n",
    "    torch.cuda.manual_seed_all(seed)\n",
    "    torch.backends.cudnn.deterministic = True\n",
    "    torch.backends.cudnn.benchmark = False\n",
    "    # pl.seed_everything(seed)\n",
    "\n",
    "seed_all(config.seed)\n",
    "torch.cuda.get_device_name(torch.cuda.current_device())"
   ],
   "metadata": {
    "collapsed": false
   }
  },
  {
   "cell_type": "code",
   "execution_count": null,
   "outputs": [],
   "source": [
    "# Load data\n",
    "data = pd.read_parquet(DATA_PATH)\n",
    "data.rename(columns={'event_tokens': 'event_tokens_untruncated', 'event_tokens_updated': 'event_tokens'}, inplace=True)\n",
    "data"
   ],
   "metadata": {
    "collapsed": false
   }
  },
  {
   "cell_type": "code",
   "execution_count": null,
   "outputs": [],
   "source": [
    "# Define custom labels, here death in 12 M\n",
    "data['label'] = ((data['death_after_end'] > 0) & (data['death_after_end'] < 365)).astype(int)"
   ],
   "metadata": {
    "collapsed": false
   }
  },
  {
   "cell_type": "code",
   "execution_count": null,
   "outputs": [],
   "source": [
    "# Fit tokenizer on .json vocab files\n",
    "tokenizer = ConceptTokenizer(data_dir=config.data_dir)\n",
    "tokenizer.fit_on_vocab()\n",
    "config.vocab_size = tokenizer.get_vocab_size()\n",
    "tokenizer"
   ],
   "metadata": {
    "collapsed": false
   }
  },
  {
   "cell_type": "code",
   "execution_count": null,
   "outputs": [],
   "source": [
    "# Get training and test datasets\n",
    "\n",
    "train_data, test_data = train_test_split(\n",
    "            data,\n",
    "            test_size=config.test_size,\n",
    "            random_state=config.seed,\n",
    "            stratify=data['label']\n",
    ")\n",
    "\n",
    "train_dataset = FinetuneDataset(\n",
    "        data=train_data,\n",
    "        tokenizer=tokenizer,\n",
    "        max_len=config.max_len,\n",
    ")\n",
    "\n",
    "test_dataset = FinetuneDataset(\n",
    "        data=test_data,\n",
    "        tokenizer=tokenizer,\n",
    "        max_len=config.max_len,\n",
    ")\n",
    "\n",
    "train_loader = DataLoader(\n",
    "        train_dataset,\n",
    "        batch_size=config.batch_size,\n",
    "        num_workers=config.num_workers,\n",
    "        shuffle=True,\n",
    "        pin_memory=True,\n",
    ")\n",
    "\n",
    "test_loader = DataLoader(\n",
    "        test_dataset,\n",
    "        batch_size=config.batch_size,\n",
    "        num_workers=config.num_workers,\n",
    "        shuffle=True,\n",
    "        pin_memory=True,\n",
    ")"
   ],
   "metadata": {
    "collapsed": false
   }
  },
  {
   "cell_type": "code",
   "execution_count": null,
   "outputs": [],
   "source": [
    "# Define model architecture\n",
    "\n",
    "class BiLSTMModel(nn.Module):\n",
    "\n",
    "    def __init__(self, embedding_dim, hidden_size, num_layers, output_size, dropout_rate=0.5):\n",
    "        super(BiLSTMModel, self).__init__()\n",
    "\n",
    "        self.embeddings = Embeddings(\n",
    "            vocab_size=config.vocab_size,\n",
    "            embedding_size=config.embedding_size,\n",
    "            time_embedding_size=config.time_embeddings_size,\n",
    "            max_len=config.max_seq_length)\n",
    "\n",
    "        self.lstm = nn.LSTM(input_size=embedding_dim,\n",
    "                            hidden_size=hidden_size,\n",
    "                            num_layers=num_layers,\n",
    "                            batch_first=True,\n",
    "                            bidirectional=True,\n",
    "                            dropout=dropout_rate)\n",
    "\n",
    "        self.batch_norm = nn.BatchNorm1d(hidden_size * 2)\n",
    "        self.dropout = nn.Dropout(dropout_rate)\n",
    "        self.linear1 = nn.Linear(hidden_size * 2, hidden_size)\n",
    "        self.linear2 = nn.Linear(hidden_size, output_size)\n",
    "\n",
    "\n",
    "    def forward(self, inputs):\n",
    "        x = self.embeddings(*inputs)\n",
    "        lstm_out, _ = self.lstm(x)\n",
    "        output = lstm_out[:, -1, :]\n",
    "        output = self.batch_norm(output)\n",
    "        output = self.dropout(output)\n",
    "        output = relu(self.linear1(output))\n",
    "        output = self.linear2(output)\n",
    "        return output\n",
    "\n",
    "\n",
    "    @staticmethod\n",
    "    def get_inputs_labels(batch):\n",
    "        labels = batch['labels'].view(-1, 1).to(config.device)\n",
    "        inputs = batch['concept_ids'].to(config.device),\\\n",
    "                 batch['time_stamps'].to(config.device),\\\n",
    "                 batch['ages'].to(config.device),\\\n",
    "                 batch['visit_orders'].to(config.device),\\\n",
    "                 batch['visit_segments'].to(config.device)\n",
    "\n",
    "        return inputs, labels.float()"
   ],
   "metadata": {
    "collapsed": false
   }
  },
  {
   "cell_type": "code",
   "execution_count": null,
   "outputs": [],
   "source": [
    "# Set hyperparameters for Bi-LSTM model adn training loop\n",
    "input_size = config.embedding_size              # embedding_dim\n",
    "hidden_size = config.embedding_size             # output hidden size\n",
    "num_layers = 5                                  # number of LSTM layers\n",
    "output_size = 1                                 # Binary classification, so output size is 1\n",
    "dropout_rate = 0.5                              # Dropout rate for regularization\n",
    "\n",
    "epochs = 10\n",
    "learning_rate = 0.004"
   ],
   "metadata": {
    "collapsed": false
   }
  },
  {
   "cell_type": "code",
   "execution_count": null,
   "outputs": [],
   "source": [
    "# Training Loop\n",
    "model = BiLSTMModel(input_size, hidden_size, num_layers, output_size, dropout_rate).to(config.device)\n",
    "loss_fcn = nn.BCEWithLogitsLoss()\n",
    "optimizer = optim.Adam(model.parameters(), lr=learning_rate)\n",
    "scheduler = ExponentialLR(optimizer, gamma=0.8, verbose=True)\n",
    "\n",
    "\n",
    "for epoch in range(epochs):\n",
    "    train_total_loss = 0; train_accuracy = 0; test_accuracy = 0\n",
    "\n",
    "\n",
    "    mode.train()\n",
    "    for batch_no, batch in tqdm(enumerate(train_loader),\n",
    "                                total=len(train_loader), desc=f'Epoch {epoch+1}/{epochs}', unit=' batch'):\n",
    "\n",
    "        inputs, labels = model.get_inputs_labels(batch)\n",
    "        outputs = model(inputs)\n",
    "        loss = loss_fcn(outputs, labels)\n",
    "\n",
    "        optimizer.zero_grad()\n",
    "        loss.backward()\n",
    "        optimizer.step()\n",
    "\n",
    "        train_total_loss += loss.item()\n",
    "        # print(f'Batch Loss: {loss.item():.4f}', end='\\r')\n",
    "\n",
    "\n",
    "    model.eval()\n",
    "    with torch.no_grad():\n",
    "        for batch_no, batch in tqdm(enumerate(train_loader),\n",
    "                                    total=len(train_loader), desc=f'Train Evaluation {epoch+1}/{epochs}', unit=' batch'):\n",
    "\n",
    "            inputs, labels = model.get_inputs_labels(batch)\n",
    "            outputs = model(inputs)\n",
    "            predictions = torch.round(sigmoid(outputs))\n",
    "            train_accuracy += balanced_accuracy_score(labels, predictions)\n",
    "\n",
    "\n",
    "        for batch_no, batch in tqdm(enumerate(test_loader),\n",
    "                                    total=len(test_loader), desc=f'Test Evaluation {epoch+1}/{epochs}', unit=' batch'):\n",
    "\n",
    "            inputs, labels = model.get_inputs_labels(batch)\n",
    "            outputs = model(inputs)\n",
    "            predictions = torch.round(sigmoid(outputs))\n",
    "            test_accuracy += balanced_accuracy_score(labels, predictions)\n",
    "\n",
    "\n",
    "    print(f'Average Train Loss: {train_total_loss/len(train_loader):.5f}  |  Last Batch Train Loss: {loss.item()}  |  '\n",
    "          f'Train Accuracy: {train_accuracy/len(train_loader)}  |  Test Accuracy: {test_accuracy/len(test_loader)}')\n",
    "    scheduler.step()"
   ],
   "metadata": {
    "collapsed": false
   }
  },
  {
   "cell_type": "code",
   "execution_count": null,
   "outputs": [],
   "source": [
    "# jupyter + cluster setup\n",
    "# reevaluate xgboost with new label and send it github"
   ],
   "metadata": {
    "collapsed": false
   }
  }
 ],
 "metadata": {
  "kernelspec": {
   "display_name": "Python 3",
   "language": "python",
   "name": "python3"
  },
  "language_info": {
   "codemirror_mode": {
    "name": "ipython",
    "version": 2
   },
   "file_extension": ".py",
   "mimetype": "text/x-python",
   "name": "python",
   "nbconvert_exporter": "python",
   "pygments_lexer": "ipython2",
   "version": "2.7.6"
  }
 },
 "nbformat": 4,
 "nbformat_minor": 0
}
