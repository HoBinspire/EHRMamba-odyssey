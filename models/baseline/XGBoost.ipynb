{
 "cells": [
  {
   "cell_type": "code",
   "execution_count": null,
   "metadata": {
    "collapsed": true
   },
   "outputs": [],
   "source": [
    "\"\"\"\n",
    "File: XGBoost.ipynb\n",
    "Code to train and evaluate an XGBoost model on MIMIC-IV FHIR dataset.\n",
    "\"\"\"\n",
    "\n",
    "def Project():\n",
    "    \"\"\"\n",
    "    __Objectives__\n",
    "    0. Import data and separate unique visit tokens\n",
    "    >>> 1. Reduce the number of features (manual selection, hierarchy aggregation)\n",
    "    2. Create frequency features from event tokens\n",
    "    >>> 3. Include num_visits, youngest and oldest age, and maybe time\n",
    "    4. Use label column to create the prediction objective\n",
    "    >>> 5. Train XGBoost model and evaluate on test dataset\n",
    "    >>> 6. Use LightGBM and CatBoost\n",
    "\n",
    "    __Questions__\n",
    "    0. Why does CEHR-BERT only have 512 possible concept and time tokens? -> Probably most tokens are not present in the sample\n",
    "\n",
    "    __Extra__\n",
    "    Hyperparameters: {learning rate (LR), maximum tree depth (max depth), number of estimators (n estimators),\n",
    "                      column sampling by tree (colsample), row subsampling (subsample) and the regulation parameter α.}\n",
    "    \"\"\"\n",
    "    return ProjectObjectives.__doc__"
   ]
  },
  {
   "cell_type": "code",
   "execution_count": 56,
   "outputs": [],
   "source": [
    "import os\n",
    "import scipy\n",
    "import numpy as np\n",
    "import pandas as pd\n",
    "import xgboost as xgb\n",
    "import matplotlib.pyplot as plt\n",
    "\n",
    "from sklearn.model_selection import train_test_split\n",
    "from sklearn.metrics import accuracy_score, balanced_accuracy_score, classification_report\n",
    "from scipy.sparse import csr_matrix, hstack, vstack, save_npz, load_npz\n",
    "\n",
    "from tqdm import tqdm\n",
    "\n",
    "ROOT = '../../data/baseline'\n",
    "DATA_PATH = f'{ROOT}/patient_sequences.parquet'\n",
    "SAMPLE_DATA_PATH = f'{ROOT}/CEHR-BERT_sample_patient_sequence.parquet'\n",
    "FREQ_DF_PATH = f'{ROOT}/patient_feature_freq.csv'\n",
    "FREQ_MATRIX_PATH = f'{ROOT}/patient_freq_matrix.npz'"
   ],
   "metadata": {
    "collapsed": false,
    "ExecuteTime": {
     "end_time": "2024-01-17T16:38:38.101873500Z",
     "start_time": "2024-01-17T16:38:35.292354600Z"
    }
   }
  },
  {
   "cell_type": "code",
   "execution_count": null,
   "outputs": [],
   "source": [
    "data = pd.read_parquet(DATA_PATH)\n",
    "sample_data = pd.read_parquet(SAMPLE_DATA_PATH)\n",
    "data"
   ],
   "metadata": {
    "collapsed": false
   }
  },
  {
   "cell_type": "code",
   "execution_count": null,
   "outputs": [],
   "source": [
    "unique_event_tokens = set()\n",
    "\n",
    "for patient_event_tokens in tqdm(data['event_tokens_updated'].values, desc='Loading Tokens', unit=' Patients'):\n",
    "    for event_token in patient_event_tokens:\n",
    "        unique_event_tokens.add(event_token)\n",
    "\n",
    "unique_event_tokens = list(unique_event_tokens)\n",
    "unique_event_tokens.sort(reverse=True)\n",
    "\n",
    "print(f\"Complete list of unique event tokens\\nLength: {len(unique_event_tokens)}\\nHead: {unique_event_tokens[:10]}...\")"
   ],
   "metadata": {
    "collapsed": false
   }
  },
  {
   "cell_type": "code",
   "execution_count": null,
   "outputs": [],
   "source": [
    "print(unique_event_tokens)"
   ],
   "metadata": {
    "collapsed": false
   }
  },
  {
   "cell_type": "code",
   "execution_count": null,
   "outputs": [],
   "source": [
    "special_tokens = ['[PAD]', 'VS', 'VE', 'W_0', 'W_1', 'W_2', 'W_3', *[f'M_{i}' for i in range(0,13)], 'LT']\n",
    "feature_event_tokens = ['id'] + [token for token in unique_event_tokens if token not in special_tokens]\n",
    "\n",
    "patient_freq_df = pd.DataFrame(columns=feature_event_tokens)\n",
    "patient_freq_df"
   ],
   "metadata": {
    "collapsed": false
   }
  },
  {
   "cell_type": "code",
   "execution_count": null,
   "outputs": [],
   "source": [
    "\"\"\"\n",
    "Get and save frequencies of each token for each patient sequence.\n",
    "\"\"\"\n",
    "\n",
    "id2patient = {}\n",
    "patient_freq_matrix = None\n",
    "buffer_size = 10000\n",
    "df_buffer = []\n",
    "matrix_buffer = []\n",
    "\n",
    "\n",
    "for idx, patient in tqdm(data.iterrows(), desc='Loading Tokens', unit=' Patients'):\n",
    "    patient_history = {token:0 for token in feature_event_tokens}\n",
    "    patient_history['id'] = idx\n",
    "    id2patient[idx] = patient['patient_id']\n",
    "\n",
    "    for event_token in patient['event_tokens_updated']:\n",
    "        if event_token not in special_tokens:\n",
    "            patient_history[event_token] += 1\n",
    "\n",
    "\n",
    "    # TODO Code to normalize frequencies\n",
    "\n",
    "\n",
    "    matrix_buffer.append(list(patient_history.values()))\n",
    "\n",
    "    if len(matrix_buffer) >= buffer_size:\n",
    "        current_matrix = csr_matrix(matrix_buffer, shape=(len(matrix_buffer), len(feature_event_tokens)))\n",
    "\n",
    "        if patient_freq_matrix is None:\n",
    "            patient_freq_matrix = current_matrix\n",
    "        else:\n",
    "            patient_freq_matrix = vstack([patient_freq_matrix, current_matrix], format='csr')\n",
    "\n",
    "        matrix_buffer = []\n",
    "\n",
    "\n",
    "if matrix_buffer:\n",
    "    current_matrix = csr_matrix(matrix_buffer, shape=(len(matrix_buffer), len(feature_event_tokens)))\n",
    "\n",
    "    if patient_freq_matrix is None:\n",
    "        patient_freq_matrix = current_matrix\n",
    "    else:\n",
    "        patient_freq_matrix = vstack([patient_freq_matrix, current_matrix], format='csr')\n",
    "\n",
    "    matrix_buffer = []\n",
    "\n",
    "\n",
    "save_npz(FREQ_MATRIX_PATH, patient_freq_matrix)\n",
    "print(f\"Save & Done! Final Matrix Shape: {patient_freq_matrix.shape}\")"
   ],
   "metadata": {
    "collapsed": false
   }
  },
  {
   "cell_type": "code",
   "execution_count": null,
   "outputs": [],
   "source": [
    "patient_freq_matrix = load_npz(FREQ_MATRIX_PATH)\n",
    "num_patients = patient_freq_matrix.shape[0]\n",
    "patient_freq_matrix"
   ],
   "metadata": {
    "collapsed": false
   }
  },
  {
   "cell_type": "code",
   "execution_count": 35,
   "outputs": [
    {
     "name": "stdout",
     "output_type": "stream",
     "text": [
      "1023\n"
     ]
    }
   ],
   "source": [
    "# Get intuition about the frequency of different features in the dataset\n",
    "print(np.sum((patient_freq_matrix.getnnz(axis=0) > 1500).astype(int)))\n",
    "# plt.hist(patient_freq_matrix.getnnz(axis=0), bins=range(num_patients+1), edgecolor='black')\n",
    "# plt.xlabel('Number of Nonzero Rows')\n",
    "# plt.ylabel('Number of Columns')\n",
    "# plt.title('Histogram of Nonzero Rows per Column')\n",
    "# plt.show()"
   ],
   "metadata": {
    "collapsed": false,
    "ExecuteTime": {
     "end_time": "2024-01-17T16:28:05.388843400Z",
     "start_time": "2024-01-17T16:28:05.299398200Z"
    }
   }
  },
  {
   "cell_type": "code",
   "execution_count": 43,
   "outputs": [
    {
     "data": {
      "text/plain": "array([ 2303,  5846,  5570,  5875,  5767,  4446,  5512,  4440,  5467,\n        5510,  5877,  5766,  5847,  5648, 15809,  5649,  5466,  5715,\n        4214,  4447,  4285,  5511,  5516,  4344,  4213,  5370,  4441,\n        4286,  4215,  5468,  5874,  5807,  5647,  5568,  4343,  5806,\n        5876,  5369,  5517,  5650,  5515,  5509,  4295,  5465,  5848,\n        4448,  4294,  5569, 15786,  5513,  5768,  4287, 16575,  4345,\n        5805, 16582,  5765,  4378,  4377,  5371,  4442,  4382,  4383,\n        4212,  5518,  5808,  5845,  5878,  4305,  4409,  5571,  5572,\n        5716,  5646,  4310,  4306,  5714,  4410,  4449,  4379,  4384,\n        4293,  5514,  5849,  5368,  4311,  4288,  5717,  4443, 16117,\n        5084, 15815,  4342,  4309, 16471,  4381,  4304,  4216,  5469,\n        4380,  4376,  5769, 16364,  4621,  5809,  4411,  5830,  4385,\n        4292,  4450,  5859,  4408,  1961,  5831,  4444, 15794,  4289,\n        2933,  4516, 16193,  4308, 15904,  4514, 16430, 15816,  4370,\n        5906,  5918,  7102,  5858,  4303,  5917,  6141,  4395,  4515,\n        4620,  4369,  4363,  5907,  4362,  4371,  4396,  4622,  3912,\n        3949,  5909,  4364,  4346,  5860,  5919, 15831,  5905,  5031,\n       17021,  6097,  6063,  6096,  7893,  5367,  4397,  3885,  6130,\n       16408,  5857, 15627,  6062,  5713,  3907,  6064, 16734,  5829,\n        6074, 16577,  6095,  4513,  6073,  5916,  3911,  4361,  6072,\n        4291,  6055,  3910, 15995,  4302, 17014,  6056, 16475,  3887,\n       15646,  3888,  6131,  6059,  3886,  6687,  6061, 17864,  5910,\n        4407,  3863, 17764,  4307,  5904,  6057,  6132,  6098,  6143,\n        5856,  1934,  5594,  3889,  6058,  3913,  4398, 15797, 17761,\n        6065,  2596, 17858, 17735, 16567,  4368,  4394,  6071,  4623,\n        5593, 16652,  3394,  5915,  5721, 15746,  6075,  6140, 16585,\n        5595,  6433,  6115, 17007,  6458,  5832,  6116,  6117,  3389,\n       16731,  3903,  3384,  4653,  5912,  4372, 16416, 17142, 16413,\n        3378,  3385,  5911,  4652, 15760,  3393,  3901,  3902,  5726,\n        5592, 16309,  3861,  3379,  3390, 16996, 15994,  3395, 15652,\n        6053,  6114,  3914,  4367,  6094,  6129,  5725,  5727,  6142,\n        4629,  5722,  6051,  7946,  3947,  6118,  6144,  4375,  5903,\n        6052, 16993,  6112,  3391,  4654,  3377,  3343, 16050,  3388,\n        3862,  4365,  6111,  5720,  5913,  6110, 16428,  2196, 17486,\n       15782,  3948,  2783,  6133,  3860,  3900, 16583,  6050,  3383,\n       13679,  5070, 15783,  3345,  1826, 16253,  4993,  6113,  4854,\n        2299,  5728,  3386,  4995,  3038,  6099,  6104,  4627,  1380,\n        2172,  3380,  6077, 15584,  3342,  1766,  6109,  3906,  5828,\n        2553,  3927, 16036,  4972,  7678,  6054, 15969,  5591,  3870,\n       17464, 15996, 15581, 16226,  6105, 17078,  7680,  5588,  6078,\n        6039, 16733,  2238,  6041,  6040,  5587,  5382,  6100,  4655,\n        2171,  6080,  5719,  5724,  5353,  6459,  3344, 16385,  2559,\n       15750,  2815, 16089,  3079, 16780, 15954,  6466,  4992,  6101,\n       17370,  6120, 17466,  1942,  7301,  5425,   704, 15728, 16461,\n        6122,  5009, 16259,  5025,  5352,  7299,  2427,  6107,  7300,\n        6068,  6102,  3396, 16019,  6106,  7972,  4374,  2177, 15640,\n       16433,  2816,  5381,  5424,  4625,  5589,  3931, 16040,  2203,\n        5383,  3341, 16651,  5586,  3904, 17465, 16592,  6042, 16894,\n        5426, 16357, 15830,  6084,  4626,  2084,  5351,  1681,  5427,\n        5011,  1941,  6036,  3076,  2319, 16387, 17281, 15701,  4459,\n        6079,  5069,  1480,  6034,  2209,  4628,  4823, 15806, 16018,\n        6119,  1840,  5380,  4824,  6121,  5350,  4460,  7711,  5423,\n        4458,  5936,  4922,  3930,  4825, 17463, 16356,  4826,  4457,\n       15747,  6460, 16346,  5349,  5393,  4967,  6108, 16832,  6103,\n        6081,  6035, 16771, 16257, 15991,   740,  2357,  3869,  5723,\n        4366, 17333,  2207,  4827, 16751,  3479,  5935, 17669, 16366,\n        5392,  5379,  5394, 15696,  5053,  3822, 16849, 16415,   694,\n       15665, 16576,  7679,  7528,  1962,  7069,  4779,  6085,  6033,\n       15819, 16997,  4778,  5391, 16012,  5683,  5682, 13676, 13674,\n       17517,  6037,  5397,  5598,  7314,  5605, 16983, 15659, 17560,\n        4780,  2092,  5585,  5684,  5937,  3929,  5604, 16479,  4777,\n        5064,  4781,  5597,  5396,  4941,  5603, 16061,  7185, 17309,\n        2563,  1393,  4851,  5398,  5599, 15749,  4845,  5607,   562,\n        3824,  5681,  5934,   793, 17296, 17311,  4801,  1412, 16774,\n        3864, 17493,  5756,  5059,  6123,  3821,  5738,  3926,  4886,\n        5882,  5933, 16227,  4656,  3928,  4802, 16732,  5606,  5737,\n       17331,  1551, 17485,  4800, 16741,  5883,  2789,  1788, 16480,\n        1767,  5399,  5600,  3823, 16574, 15674,  1718,  1817, 15713,\n       16746,  5749, 17019, 16847,  4936, 16334,  4908,  5763,  4937,\n        5755,  6043,  2925,  2093,  4803,  5761, 16563,  1952,  2364,\n        2182,  5739, 16584,  2779, 16825, 16779,  5750,  7173,  4846,\n        3820,  7703,  3387,  5740,  7982,  5758, 16388,  5751,  6262,\n        4804, 17470,  1708,  7066, 15033,  5762,  1872,  4784,  5024,\n        2268,  2118,  5760, 15558, 16367,  5757,  3925, 17842, 15751,\n       15791, 17492,  4785,  5022,  5400,  5601,  5346, 16929, 15956,\n        6166,  5884,  7064,  4461,  7914,  2339,  4787,  4872,  1719,\n       16362,  5752,  2784,  2157,  5345,  2360, 15698,  6221,  5040,\n        5344,  5881,  7763, 16464,  7967,  5764,  2915,  2252, 15986,\n        7037,  2829,  1392,  5083,  5390,  1434,  1816,  5088, 17273,\n        6067, 15685,  5362, 15689,  2132,  5680,  4786,  4867,  5343,\n        5087,  4841,  6028,  6027,  6375,  7978,  7702, 16196, 16435,\n       15833, 15910,  4765,  2777,  2301,  3381,  5741, 17561,  5086,\n        2317,  4766,  1820,  5753, 16690,  5361,  4767,  4768, 17356,\n       17060,  4964,  2161,  5085,  4788,  4991, 17363,  2243,  5037,\n       16932,  5342,  4769,  1737,  7932,  6293,  5759, 15752,  5551,\n        6082,  6232,  4357, 17372, 16341,  3942, 15798, 17535, 16542,\n        4359, 16547, 16386,  1442, 17374,  6734, 17870,  2318, 16212,\n        7896, 16314, 16992, 16970,  2020,  2926,  5837,  5089,  4273,\n        2162,  4274, 16834,  2278,  4275, 16553,  2289,   423, 16173,\n        2613,  5556,   595,  6639,  6216, 14871, 16256, 16240, 15796,\n        7783, 16059,  6522, 17316, 17857,  6029,  5640,  1447, 16224,\n       16637,  5642,  4276, 17375,  5641, 17080, 16594,  1824,  2920,\n       16745,  2165,  5880,  4885,  5555,  7207,  1734, 16434, 15536,\n        2729,  5363, 15962,  6030,  1829,  5021, 16379, 15706,  2300,\n       17011, 16819,  2190, 17471, 15620, 17491,  2573,  2814,   564,\n        4847, 15743,  4973, 16613,  1789, 16602,  3512,  5554, 16560,\n        5492,  2169, 16738,  5553, 15818, 17451,  5844,  5550, 17108,\n        4970, 16014, 16826,  7696,  5643,  6083,  6761,  2790,  2576,\n        2287,  2652,  1751, 17292,  3883,  5843, 16438, 15681, 16132,\n        5733,  6451,  5038,  3944,  1801, 16508, 15697,  5836,  2440,\n       16566, 15779,  3943,  5026,  1798,  7201,  1440,  5732,  3872,\n        5552,  2733,  4272,  5413, 17371,  3040,  6172,  5835, 16953,\n        1704,  1604,  6031,  3908,  2782,  7610,  4868,  5549,  2152,\n        6086,  6439, 16561,  3458,  1729,  6569, 16099, 16231,  5842,\n        5734,  1828, 16020,  7962, 17590,  1620,  5841, 15879,  1691,\n        7710, 15941,  3103,  1776, 15769, 15817,  3237,  5493,  1775,\n        4774, 16338,  5644,  5838,  4773,  1712,  5731,  2232,  1818,\n        4917,  3945,  3871, 15684,  2097,  2295,  6636,  2362,  7926,\n       17357, 16460,   730, 16691, 17277,  1717, 16635,  3625,  4971,\n       16971,  1741,  4256,  5676,  2655,  2830,  2140,  1706,  1122,\n        1960, 15805, 16742, 11023,  5495, 16432, 17738,  5677, 16848,\n        2326], dtype=int64)"
     },
     "execution_count": 43,
     "metadata": {},
     "output_type": "execute_result"
    }
   ],
   "source": [
    "features_sorted_by_freq = np.argsort(-patient_freq_matrix.getnnz(axis=0))\n",
    "selected_features = features_sorted_by_freq[1:5001]\n",
    "selected_features"
   ],
   "metadata": {
    "collapsed": false,
    "ExecuteTime": {
     "end_time": "2024-01-17T16:30:01.560313Z",
     "start_time": "2024-01-17T16:30:01.448671200Z"
    }
   }
  },
  {
   "cell_type": "code",
   "execution_count": 49,
   "outputs": [],
   "source": [
    "X = patient_freq_matrix[:, selected_features]\n",
    "Y = data['label'].values\n",
    "\n",
    "X_train, X_test, y_train, y_test = train_test_split(X, Y, test_size=0.3, stratify=Y, random_state=23)"
   ],
   "metadata": {
    "collapsed": false,
    "ExecuteTime": {
     "end_time": "2024-01-17T16:30:27.316022700Z",
     "start_time": "2024-01-17T16:30:27.116186400Z"
    }
   }
  },
  {
   "cell_type": "code",
   "execution_count": 52,
   "outputs": [
    {
     "data": {
      "text/plain": "XGBClassifier(base_score=None, booster=None, callbacks=None,\n              colsample_bylevel=None, colsample_bynode=None,\n              colsample_bytree=None, device=None, early_stopping_rounds=None,\n              enable_categorical=False, eval_metric=None, feature_types=None,\n              gamma=None, grow_policy=None, importance_type=None,\n              interaction_constraints=None, learning_rate=None, max_bin=None,\n              max_cat_threshold=None, max_cat_to_onehot=None,\n              max_delta_step=None, max_depth=None, max_leaves=None,\n              min_child_weight=None, missing=nan, monotone_constraints=None,\n              multi_strategy=None, n_estimators=None, n_jobs=None,\n              num_parallel_tree=None, random_state=23, ...)",
      "text/html": "<style>#sk-container-id-1 {color: black;}#sk-container-id-1 pre{padding: 0;}#sk-container-id-1 div.sk-toggleable {background-color: white;}#sk-container-id-1 label.sk-toggleable__label {cursor: pointer;display: block;width: 100%;margin-bottom: 0;padding: 0.3em;box-sizing: border-box;text-align: center;}#sk-container-id-1 label.sk-toggleable__label-arrow:before {content: \"▸\";float: left;margin-right: 0.25em;color: #696969;}#sk-container-id-1 label.sk-toggleable__label-arrow:hover:before {color: black;}#sk-container-id-1 div.sk-estimator:hover label.sk-toggleable__label-arrow:before {color: black;}#sk-container-id-1 div.sk-toggleable__content {max-height: 0;max-width: 0;overflow: hidden;text-align: left;background-color: #f0f8ff;}#sk-container-id-1 div.sk-toggleable__content pre {margin: 0.2em;color: black;border-radius: 0.25em;background-color: #f0f8ff;}#sk-container-id-1 input.sk-toggleable__control:checked~div.sk-toggleable__content {max-height: 200px;max-width: 100%;overflow: auto;}#sk-container-id-1 input.sk-toggleable__control:checked~label.sk-toggleable__label-arrow:before {content: \"▾\";}#sk-container-id-1 div.sk-estimator input.sk-toggleable__control:checked~label.sk-toggleable__label {background-color: #d4ebff;}#sk-container-id-1 div.sk-label input.sk-toggleable__control:checked~label.sk-toggleable__label {background-color: #d4ebff;}#sk-container-id-1 input.sk-hidden--visually {border: 0;clip: rect(1px 1px 1px 1px);clip: rect(1px, 1px, 1px, 1px);height: 1px;margin: -1px;overflow: hidden;padding: 0;position: absolute;width: 1px;}#sk-container-id-1 div.sk-estimator {font-family: monospace;background-color: #f0f8ff;border: 1px dotted black;border-radius: 0.25em;box-sizing: border-box;margin-bottom: 0.5em;}#sk-container-id-1 div.sk-estimator:hover {background-color: #d4ebff;}#sk-container-id-1 div.sk-parallel-item::after {content: \"\";width: 100%;border-bottom: 1px solid gray;flex-grow: 1;}#sk-container-id-1 div.sk-label:hover label.sk-toggleable__label {background-color: #d4ebff;}#sk-container-id-1 div.sk-serial::before {content: \"\";position: absolute;border-left: 1px solid gray;box-sizing: border-box;top: 0;bottom: 0;left: 50%;z-index: 0;}#sk-container-id-1 div.sk-serial {display: flex;flex-direction: column;align-items: center;background-color: white;padding-right: 0.2em;padding-left: 0.2em;position: relative;}#sk-container-id-1 div.sk-item {position: relative;z-index: 1;}#sk-container-id-1 div.sk-parallel {display: flex;align-items: stretch;justify-content: center;background-color: white;position: relative;}#sk-container-id-1 div.sk-item::before, #sk-container-id-1 div.sk-parallel-item::before {content: \"\";position: absolute;border-left: 1px solid gray;box-sizing: border-box;top: 0;bottom: 0;left: 50%;z-index: -1;}#sk-container-id-1 div.sk-parallel-item {display: flex;flex-direction: column;z-index: 1;position: relative;background-color: white;}#sk-container-id-1 div.sk-parallel-item:first-child::after {align-self: flex-end;width: 50%;}#sk-container-id-1 div.sk-parallel-item:last-child::after {align-self: flex-start;width: 50%;}#sk-container-id-1 div.sk-parallel-item:only-child::after {width: 0;}#sk-container-id-1 div.sk-dashed-wrapped {border: 1px dashed gray;margin: 0 0.4em 0.5em 0.4em;box-sizing: border-box;padding-bottom: 0.4em;background-color: white;}#sk-container-id-1 div.sk-label label {font-family: monospace;font-weight: bold;display: inline-block;line-height: 1.2em;}#sk-container-id-1 div.sk-label-container {text-align: center;}#sk-container-id-1 div.sk-container {/* jupyter's `normalize.less` sets `[hidden] { display: none; }` but bootstrap.min.css set `[hidden] { display: none !important; }` so we also need the `!important` here to be able to override the default hidden behavior on the sphinx rendered scikit-learn.org. See: https://github.com/scikit-learn/scikit-learn/issues/21755 */display: inline-block !important;position: relative;}#sk-container-id-1 div.sk-text-repr-fallback {display: none;}</style><div id=\"sk-container-id-1\" class=\"sk-top-container\"><div class=\"sk-text-repr-fallback\"><pre>XGBClassifier(base_score=None, booster=None, callbacks=None,\n              colsample_bylevel=None, colsample_bynode=None,\n              colsample_bytree=None, device=None, early_stopping_rounds=None,\n              enable_categorical=False, eval_metric=None, feature_types=None,\n              gamma=None, grow_policy=None, importance_type=None,\n              interaction_constraints=None, learning_rate=None, max_bin=None,\n              max_cat_threshold=None, max_cat_to_onehot=None,\n              max_delta_step=None, max_depth=None, max_leaves=None,\n              min_child_weight=None, missing=nan, monotone_constraints=None,\n              multi_strategy=None, n_estimators=None, n_jobs=None,\n              num_parallel_tree=None, random_state=23, ...)</pre><b>In a Jupyter environment, please rerun this cell to show the HTML representation or trust the notebook. <br />On GitHub, the HTML representation is unable to render, please try loading this page with nbviewer.org.</b></div><div class=\"sk-container\" hidden><div class=\"sk-item\"><div class=\"sk-estimator sk-toggleable\"><input class=\"sk-toggleable__control sk-hidden--visually\" id=\"sk-estimator-id-1\" type=\"checkbox\" checked><label for=\"sk-estimator-id-1\" class=\"sk-toggleable__label sk-toggleable__label-arrow\">XGBClassifier</label><div class=\"sk-toggleable__content\"><pre>XGBClassifier(base_score=None, booster=None, callbacks=None,\n              colsample_bylevel=None, colsample_bynode=None,\n              colsample_bytree=None, device=None, early_stopping_rounds=None,\n              enable_categorical=False, eval_metric=None, feature_types=None,\n              gamma=None, grow_policy=None, importance_type=None,\n              interaction_constraints=None, learning_rate=None, max_bin=None,\n              max_cat_threshold=None, max_cat_to_onehot=None,\n              max_delta_step=None, max_depth=None, max_leaves=None,\n              min_child_weight=None, missing=nan, monotone_constraints=None,\n              multi_strategy=None, n_estimators=None, n_jobs=None,\n              num_parallel_tree=None, random_state=23, ...)</pre></div></div></div></div></div>"
     },
     "execution_count": 52,
     "metadata": {},
     "output_type": "execute_result"
    }
   ],
   "source": [
    "xgb_model = xgb.XGBClassifier(objective='binary:logistic', random_state=23)\n",
    "xgb_model.fit(X_train, y_train)"
   ],
   "metadata": {
    "collapsed": false,
    "ExecuteTime": {
     "end_time": "2024-01-17T16:30:43.566948Z",
     "start_time": "2024-01-17T16:30:39.531885400Z"
    }
   }
  },
  {
   "cell_type": "code",
   "execution_count": 57,
   "outputs": [
    {
     "name": "stdout",
     "output_type": "stream",
     "text": [
      "Accuracy\n",
      "Train: 0.8364036278920834  |  Test: 0.759330187137921  |  All Data: 0.8209862237693658\n"
     ]
    }
   ],
   "source": [
    "y_train_pred = xgb_model.predict(X_train)\n",
    "y_test_pred = xgb_model.predict(X_test)\n",
    "all_data_pred = xgb_model.predict(X)\n",
    "\n",
    "y_train_accuracy = balanced_accuracy_score(y_train, y_train_pred)\n",
    "y_test_accuracy = balanced_accuracy_score(y_test, y_test_pred)\n",
    "all_data_accuracy = balanced_accuracy_score(Y, all_data_pred)\n",
    "\n",
    "print(f\"Balanced Accuracy\\nTrain: {y_train_accuracy}  |  Test: {y_test_accuracy}  |  All Data: {all_data_accuracy}\")"
   ],
   "metadata": {
    "collapsed": false,
    "ExecuteTime": {
     "end_time": "2024-01-17T16:38:47.223050Z",
     "start_time": "2024-01-17T16:38:46.356047800Z"
    }
   }
  }
 ],
 "metadata": {
  "kernelspec": {
   "display_name": "Python 3",
   "language": "python",
   "name": "python3"
  },
  "language_info": {
   "codemirror_mode": {
    "name": "ipython",
    "version": 2
   },
   "file_extension": ".py",
   "mimetype": "text/x-python",
   "name": "python",
   "nbconvert_exporter": "python",
   "pygments_lexer": "ipython2",
   "version": "2.7.6"
  }
 },
 "nbformat": 4,
 "nbformat_minor": 0
}
