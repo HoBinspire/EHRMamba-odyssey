{
 "cells": [
  {
   "cell_type": "code",
   "execution_count": null,
   "metadata": {
    "collapsed": true
   },
   "outputs": [],
   "source": [
    "\"\"\"\n",
    "File: CompareAUROC-Poster.ipynb\n",
    "---------------------------------\n",
    "Compare performance of XGBoost to BigBird & Bi-LSTM using the AUROC curve for all three models on the same test set\n",
    "Used to generate the AUROC curves on the poster showcased in Vector Institute's Research Symposium, on February 9\n",
    "\"\"\""
   ]
  },
  {
   "cell_type": "code",
   "execution_count": null,
   "metadata": {
    "collapsed": false
   },
   "outputs": [],
   "source": [
    "# Import dependencies and define useful constants\n",
    "import os\n",
    "\n",
    "import matplotlib.pyplot as plt\n",
    "import numpy as np\n",
    "from scipy.special import expit\n",
    "from sklearn.metrics import (\n",
    "    roc_auc_score,\n",
    "    roc_curve,\n",
    ")\n",
    "\n",
    "\n",
    "plt.style.use(\"seaborn-v0_8\")\n",
    "%matplotlib inline\n",
    "\n",
    "TEST_SIZE = \"512\"\n",
    "TEST_GROUP = \"two_weeks\"\n",
    "TRANSFORMER_TEST_GROUP = \"week\" if TEST_GROUP == \"two_weeks\" else \"month\"\n",
    "\n",
    "ROOT = \"/fs01/home/afallah/odyssey/odyssey\"\n",
    "DATA_ROOT = f\"{ROOT}/data/slurm_data/{TEST_SIZE}/{TEST_GROUP}\"\n",
    "os.chdir(ROOT)"
   ]
  },
  {
   "cell_type": "code",
   "execution_count": null,
   "metadata": {
    "collapsed": false
   },
   "outputs": [],
   "source": [
    "# Load predictions, labels, and probabilities of different models\n",
    "y_xgboost_pred = np.load(f\"{ROOT}/xgboost_y_test_pred_{TEST_GROUP}.npy\")\n",
    "y_xgboost_labels = np.load(f\"{ROOT}/xgboost_y_test_pred_{TEST_GROUP}_labels.npy\")\n",
    "y_xgboost_prob = np.load(f\"{ROOT}/xgboost_y_test_pred_{TEST_GROUP}_prob.npy\")\n",
    "y_xgboost_prob = y_xgboost_prob[:, 1]\n",
    "\n",
    "y_lstm_pred = np.load(f\"{ROOT}/lstm_y_test_pred_{TEST_GROUP}.npy\")\n",
    "y_lstm_labels = np.load(f\"{ROOT}/lstm_y_test_pred_{TEST_GROUP}_labels.npy\")\n",
    "y_lstm_prob = np.load(f\"{ROOT}/lstm_y_test_pred_{TEST_GROUP}_prob.npy\")\n",
    "\n",
    "y_transformer_pred = np.load(f\"/ssd003/projects/aieng/public/odyssey/results/test_preds_{TRANSFORMER_TEST_GROUP}.npy\")\n",
    "y_transformer_labels = np.load(f\"/ssd003/projects/aieng/public/odyssey/results/test_labels_{TRANSFORMER_TEST_GROUP}.npy\")\n",
    "y_transformer_prob = np.load(f\"/ssd003/projects/aieng/public/odyssey/results/test_prob_{TRANSFORMER_TEST_GROUP}.npy\")\n",
    "y_transformer_prob = expit(y_transformer_prob[:, 1])"
   ]
  },
  {
   "cell_type": "code",
   "execution_count": null,
   "metadata": {
    "collapsed": false
   },
   "outputs": [],
   "source": [
    "# Plot ROC Curve for XGBoost, Bi-LSTM, and Transformer\n",
    "fpr_xgboost, tpr_xgboost, _ = roc_curve(y_xgboost_labels, y_xgboost_prob)\n",
    "fpr_lstm, tpr_lstm, _ = roc_curve(y_lstm_labels, y_lstm_prob)\n",
    "fpr_transformer, tpr_transformer, _ = roc_curve(y_transformer_labels, y_transformer_prob)\n",
    "\n",
    "# AUROC\n",
    "y_xgboost_auroc = roc_auc_score(y_xgboost_labels, y_xgboost_prob)\n",
    "y_lstm_auroc = roc_auc_score(y_lstm_labels, y_lstm_prob)\n",
    "transformer_auroc = roc_auc_score(y_transformer_labels, y_transformer_prob)"
   ]
  },
  {
   "cell_type": "code",
   "execution_count": null,
   "metadata": {
    "collapsed": false
   },
   "outputs": [],
   "source": [
    "# Plot Information\n",
    "plt.figure(figsize=(8, 10))\n",
    "\n",
    "plt.plot(fpr_transformer, tpr_transformer, label=f\"BigBird = {transformer_auroc:.2f}\", color=\"red\")\n",
    "plt.plot(fpr_xgboost, tpr_xgboost, label=f\"XGBoost = {y_xgboost_auroc:.2f}\", color=\"green\")\n",
    "plt.plot(fpr_lstm, tpr_lstm, label=f\"Bi-LSTM = {y_lstm_auroc:.2f}\", color=\"blue\")\n",
    "plt.plot([0, 1], [0, 1], linestyle=\"--\", color=\"gray\", label=\"Random\")\n",
    "\n",
    "plt.xlabel(\"False Positive Rate\")\n",
    "plt.ylabel(\"True Positive Rate\")\n",
    "plt.title(\"ROC Curve - Two-Weeks Mortality Prediction\")\n",
    "plt.legend(loc=\"lower right\", fontsize=\"large\", facecolor=\"white\", frameon=True)\n",
    "plt.show()"
   ]
  }
 ],
 "metadata": {
  "kernelspec": {
   "display_name": "Python 3",
   "language": "python",
   "name": "python3"
  },
  "language_info": {
   "codemirror_mode": {
    "name": "ipython",
    "version": 2
   },
   "file_extension": ".py",
   "mimetype": "text/x-python",
   "name": "python",
   "nbconvert_exporter": "python",
   "pygments_lexer": "ipython2",
   "version": "2.7.6"
  }
 },
 "nbformat": 4,
 "nbformat_minor": 0
}
